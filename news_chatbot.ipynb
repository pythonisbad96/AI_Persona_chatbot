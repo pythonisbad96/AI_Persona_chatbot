{
 "cells": [
  {
   "cell_type": "code",
   "execution_count": 8,
   "id": "ccfe71ad",
   "metadata": {},
   "outputs": [
    {
     "name": "stdout",
     "output_type": "stream",
     "text": [
      "Requirement already satisfied: rich in c:\\users\\heejunekim\\appdata\\local\\programs\\python\\python313\\lib\\site-packages (14.1.0)\n",
      "Requirement already satisfied: markdown-it-py>=2.2.0 in c:\\users\\heejunekim\\appdata\\local\\programs\\python\\python313\\lib\\site-packages (from rich) (4.0.0)\n",
      "Requirement already satisfied: pygments<3.0.0,>=2.13.0 in c:\\users\\heejunekim\\appdata\\roaming\\python\\python313\\site-packages (from rich) (2.19.2)\n",
      "Requirement already satisfied: mdurl~=0.1 in c:\\users\\heejunekim\\appdata\\local\\programs\\python\\python313\\lib\\site-packages (from markdown-it-py>=2.2.0->rich) (0.1.2)\n",
      "Note: you may need to restart the kernel to use updated packages.\n"
     ]
    },
    {
     "name": "stderr",
     "output_type": "stream",
     "text": [
      "\n",
      "[notice] A new release of pip is available: 24.3.1 -> 25.2\n",
      "[notice] To update, run: python.exe -m pip install --upgrade pip\n"
     ]
    }
   ],
   "source": [
    "pip install rich"
   ]
  },
  {
   "cell_type": "code",
   "execution_count": 1,
   "id": "e0fe307f",
   "metadata": {},
   "outputs": [
    {
     "data": {
      "text/plain": [
       "True"
      ]
     },
     "execution_count": 1,
     "metadata": {},
     "output_type": "execute_result"
    }
   ],
   "source": [
    "from dotenv import load_dotenv\n",
    "\n",
    "load_dotenv()"
   ]
  },
  {
   "cell_type": "code",
   "execution_count": 4,
   "id": "38b5f39b",
   "metadata": {},
   "outputs": [
    {
     "name": "stdout",
     "output_type": "stream",
     "text": [
      "LangSmith 추적을 시작합니다.\n",
      "[프로젝트명]\n",
      "news.chatbot.ipynb\n"
     ]
    }
   ],
   "source": [
    "#!pip install -qU langchain-teddynote\n",
    "\n",
    "from langchain_teddynote import logging\n",
    "\n",
    "logging.langsmith(\"news.chatbot.ipynb\")"
   ]
  },
  {
   "cell_type": "code",
   "execution_count": 5,
   "id": "50d6ba7d",
   "metadata": {},
   "outputs": [
    {
     "name": "stderr",
     "output_type": "stream",
     "text": [
      "c:\\Users\\heejunekim\\AppData\\Local\\Programs\\Python\\Python313\\Lib\\site-packages\\tqdm\\auto.py:21: TqdmWarning: IProgress not found. Please update jupyter and ipywidgets. See https://ipywidgets.readthedocs.io/en/stable/user_install.html\n",
      "  from .autonotebook import tqdm as notebook_tqdm\n",
      "USER_AGENT environment variable not set, consider setting it to identify your requests.\n"
     ]
    }
   ],
   "source": [
    "import bs4\n",
    "from langchain import hub\n",
    "from langchain_text_splitters import RecursiveCharacterTextSplitter\n",
    "from langchain_community.document_loaders import WebBaseLoader\n",
    "from langchain_community.vectorstores import FAISS\n",
    "from langchain_core.output_parsers import StrOutputParser\n",
    "from langchain_core.runnables import RunnablePassthrough\n",
    "from langchain_openai import ChatOpenAI, OpenAIEmbeddings"
   ]
  },
  {
   "cell_type": "code",
   "execution_count": 14,
   "id": "9eda633b",
   "metadata": {},
   "outputs": [
    {
     "name": "stdout",
     "output_type": "stream",
     "text": [
      "문서의 수: 1\n"
     ]
    },
    {
     "data": {
      "text/plain": [
       "[Document(metadata={'source': 'https://n.news.naver.com/mnews/article/001/0015623016?rc=N&ntype=RANKING'}, page_content='\\n\\n배터리공장 건설 현장서 체포된 지 8일만…\"美 재입국 시 불이익 없게\"중국 10명·일본 3명·인도네시아 1명 등 외국인 14명도 도착\\n\\n\\n\\n한국으로 향하는 석방 근로자 탑승 전세기(애틀랜타=연합뉴스) 장하나 기자 = 미국 이민 당국에 구금됐다가 풀려난 한국인 근로자들이 탑승한 대한항공 전세기가 11일(현지시간) 미국 조지아주 하츠필드-잭슨 애틀랜타 국제공항에서 이륙하고 있다. 2025.9.12 hanajjang@yna.co.kr    (서울=연합뉴스) 임성호 기자 = 미국 이민당국에 의해 조지아주에 구금됐다 풀려난 한국인 근로자 등 330명이 12일 오후 인천국제공항에 도착했다.    항공업계에 따르면 지난 11일(현지시간) 오전 11시 38분께 하츠필드-잭슨 애틀랜타 국제공항에서 출발한 대한항공 전세기 KE9036편은 이날 오후 3시 23분께 인천공항 활주로에 착륙했다.    이 항공편에는 한국인 총 316명(잔류 선택 1명 제외)과 외국 국적자 14명(중국 10명, 일본 3명, 인도네시아 1명) 등 조지아주 남부 포크스턴 구금시설 등에 억류됐던 근로자 총 330명이 탑승했다.    이번 사태를 수습하기 위해 미국을 찾은 박윤주 외교부 1차관과 김동명 LG에너지솔루션 대표를 비롯한 정부·기업 관계자 및 의료진 등 21명도 동승해 총 탑승 인원은 351명이다.    풀려난 한국인들은 체포·구금된 지 8일 만에 고국 땅을 밟게 됐다.    이들은 입국 절차를 거친 뒤 인천공항 제2여객터미널 출국장에서 가족 및 친지와 상봉할 예정이다.    앞서 미국 이민당국은 지난 4일 조지아주 엘러벨의 현대차그룹-LG에너지솔루션 배터리 합작공장 건설 현장에서 대대적인 기습 단속을 벌여 LG에너지솔루션과 협력사 직원 등 한국인 317명을 포함해 총 475명을 체포했다. 당국은 이들이 미국에 불법적으로 입국했거나, 체류 자격 요건을 위반한 채 불법적으로 일하고 있었다고 설명했다.    우리 정부는 긴급 대책회의를 열어 대응에 나섰고, 현지에서는 주애틀랜타 총영사관 소속 영사가 사태 발생 사흘 차인 6일 오전부터 구금시설을 찾아 수감된 한국인들을 면담했다.    이후 석방 교섭이 속도를 내면서 이들을 귀국시킬 대한항공 전세기가 한국시간으로 10일 오전 10시 21분 인천공항에서 이륙해 애틀랜타 공항으로 향했다.     당초 귀국편 출발 시점은 한국시간 11일 오전 3시 30분(현지시간 10일 오후 2시 30분)께로 알려졌으나 도널드 트럼프 미국 대통령의 잔류 요청과 석방된 한국인들의 대우 문제 등이 맞물려 하루가량 늦어졌다.    귀국한 한국 근로자들은 향후 미국 재입국 때 불이익이 없게 하겠다는 미국 측 약속을 받은 상태다.    조현 외교부 장관은 지난 10일 백악관에서 마코 루비오 국무장관과 만나 이들의 미국 재입국에 불이익이 없도록 해달라고 요청했고, 루비오 장관은 \"트럼프 대통령이 한국 측이 원하는 바대로 가능한 이뤄질 수 있도록 신속히 협의하고 조치할 것을 지시했다\"고 답했다.\\n\\n\\n\\n\\'기다리던 집으로\\'(포크스턴[미국 조지아주]=연합뉴스) 윤동진 기자 = 이민단속으로 체포됐던 현대차-LG엔솔 배터리공장 건설 현장 직원들이 애틀랜타 공항으로 향하기 위해 지난 11일(현지시간) 미국 조지아주 포크스턴의 이민세관단속국(ICE) 구금시설을 나서며 버스에 탑승하고 있다. 2025.9.12 mon@yna.co.kr    sh@yna.co.kr\\n\\n')]"
      ]
     },
     "execution_count": 14,
     "metadata": {},
     "output_type": "execute_result"
    }
   ],
   "source": [
    "loader = WebBaseLoader(\n",
    "    web_paths=(\"https://n.news.naver.com/mnews/article/001/0015623016?rc=N&ntype=RANKING\",),\n",
    "    bs_kwargs= dict(\n",
    "        parse_only = bs4.SoupStrainer(\n",
    "            \"div\",\n",
    "            attrs = {\"class\" : [\"newsct_article _article_body\", \"meida_end_head_title\"]},\n",
    "        )\n",
    "    ),\n",
    ")\n",
    "\n",
    "docs = loader.load()\n",
    "print(f\"문서의 수: {len(docs)}\")\n",
    "docs"
   ]
  },
  {
   "cell_type": "code",
   "execution_count": null,
   "id": "dc7e3b73",
   "metadata": {},
   "outputs": [
    {
     "data": {
      "text/plain": [
       "4"
      ]
     },
     "execution_count": 18,
     "metadata": {},
     "output_type": "execute_result"
    }
   ],
   "source": [
    "text_splitter = RecursiveCharacterTextSplitter (chunk_size = 1000, chunk_overlap = 50)\n",
    "\n",
    "splits = text_splitter.split_documents(docs)\n",
    "len(splits)"
   ]
  },
  {
   "cell_type": "code",
   "execution_count": 19,
   "id": "11807c92",
   "metadata": {},
   "outputs": [
    {
     "name": "stdout",
     "output_type": "stream",
     "text": [
      "page_content='한국으로 향하는 석방 근로자 탑승 전세기(애틀랜타=연합뉴스) 장하나 기자 = 미국 이민 당국에 구금됐다가 풀려난 한국인 근로자들이 탑승한 대한항공 전세기가 11일(현지시간) 미국 조지아주 하츠필드-잭슨 애틀랜타 국제공항에서 이륙하고 있다. 2025.9.12 hanajjang@yna.co.kr    (서울=연합뉴스) 임성호 기자 = 미국 이민당국에 의해 조지아주에 구금됐다 풀려난 한국인 근로자 등 330명이 12일 오후 인천국제공항에 도착했다.    항공업계에 따르면 지난 11일(현지시간) 오전 11시 38분께 하츠필드-잭슨 애틀랜타 국제공항에서 출발한 대한항공 전세기 KE9036편은 이날 오후 3시 23분께 인천공항 활주로에 착륙했다.    이 항공편에는 한국인 총 316명(잔류 선택 1명 제외)과 외국 국적자 14명(중국 10명, 일본 3명, 인도네시아 1명) 등 조지아주 남부 포크스턴 구금시설 등에 억류됐던 근로자 총 330명이 탑승했다.    이번 사태를 수습하기 위해 미국을 찾은 박윤주 외교부 1차관과 김동명 LG에너지솔루션 대표를 비롯한 정부·기업 관계자 및 의료진 등 21명도 동승해 총 탑승 인원은 351명이다.    풀려난 한국인들은 체포·구금된 지 8일 만에 고국 땅을 밟게 됐다.    이들은 입국 절차를 거친 뒤 인천공항 제2여객터미널 출국장에서 가족 및 친지와 상봉할 예정이다.    앞서 미국 이민당국은 지난 4일 조지아주 엘러벨의 현대차그룹-LG에너지솔루션 배터리 합작공장 건설 현장에서 대대적인 기습 단속을 벌여 LG에너지솔루션과 협력사 직원 등 한국인 317명을 포함해 총 475명을 체포했다. 당국은 이들이 미국에 불법적으로 입국했거나, 체류 자격 요건을 위반한 채 불법적으로 일하고 있었다고 설명했다.    우리 정부는 긴급 대책회의를 열어 대응에 나섰고, 현지에서는 주애틀랜타 총영사관 소속 영사가 사태 발생 사흘 차인 6일 오전부터 구금시설을 찾아 수감된 한국인들을 면담했다.    이후 석방 교섭이 속도를 내면서 이들을 귀국시킬' metadata={'source': 'https://n.news.naver.com/mnews/article/001/0015623016?rc=N&ntype=RANKING'}\n"
     ]
    }
   ],
   "source": [
    "print(splits[1])"
   ]
  },
  {
   "cell_type": "code",
   "execution_count": null,
   "id": "d02321b5",
   "metadata": {},
   "outputs": [],
   "source": [
    "vectorstore = FAISS.from_documents(documents = splits, embedding=OpenAIEmbeddings())\n",
    "\n",
    "retriever = vectorstore.as_retriever()"
   ]
  },
  {
   "cell_type": "code",
   "execution_count": null,
   "id": "778f46e9",
   "metadata": {},
   "outputs": [],
   "source": []
  }
 ],
 "metadata": {
  "kernelspec": {
   "display_name": "Python 3",
   "language": "python",
   "name": "python3"
  },
  "language_info": {
   "codemirror_mode": {
    "name": "ipython",
    "version": 3
   },
   "file_extension": ".py",
   "mimetype": "text/x-python",
   "name": "python",
   "nbconvert_exporter": "python",
   "pygments_lexer": "ipython3",
   "version": "3.13.2"
  }
 },
 "nbformat": 4,
 "nbformat_minor": 5
}
